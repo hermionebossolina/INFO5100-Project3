{
 "cells": [
  {
   "cell_type": "markdown",
   "id": "43ee18cf",
   "metadata": {},
   "source": [
    "### Importing the CSV files!"
   ]
  },
  {
   "cell_type": "code",
   "execution_count": 1,
   "id": "b84c0d26",
   "metadata": {},
   "outputs": [],
   "source": [
    "import pandas as pd\n",
    "import matplotlib.pyplot as plt\n",
    "import numpy as np\n",
    "from datetime import datetime\n",
    "ufo_data = pd.read_csv(\"nuforc_reports.csv\")\n",
    "space_mission = pd.read_csv(\"Space_Corrected.csv\")"
   ]
  },
  {
   "cell_type": "code",
   "execution_count": 2,
   "id": "7e4d30a4",
   "metadata": {
    "scrolled": true
   },
   "outputs": [
    {
     "data": {
      "text/html": [
       "<div>\n",
       "<style scoped>\n",
       "    .dataframe tbody tr th:only-of-type {\n",
       "        vertical-align: middle;\n",
       "    }\n",
       "\n",
       "    .dataframe tbody tr th {\n",
       "        vertical-align: top;\n",
       "    }\n",
       "\n",
       "    .dataframe thead th {\n",
       "        text-align: right;\n",
       "    }\n",
       "</style>\n",
       "<table border=\"1\" class=\"dataframe\">\n",
       "  <thead>\n",
       "    <tr style=\"text-align: right;\">\n",
       "      <th></th>\n",
       "      <th>summary</th>\n",
       "      <th>city</th>\n",
       "      <th>state</th>\n",
       "      <th>date_time</th>\n",
       "      <th>shape</th>\n",
       "      <th>duration</th>\n",
       "      <th>stats</th>\n",
       "      <th>report_link</th>\n",
       "      <th>text</th>\n",
       "      <th>posted</th>\n",
       "      <th>city_latitude</th>\n",
       "      <th>city_longitude</th>\n",
       "    </tr>\n",
       "  </thead>\n",
       "  <tbody>\n",
       "    <tr>\n",
       "      <th>0</th>\n",
       "      <td>My wife was driving southeast on a fairly popu...</td>\n",
       "      <td>Chester</td>\n",
       "      <td>VA</td>\n",
       "      <td>2019-12-12T18:43:00</td>\n",
       "      <td>light</td>\n",
       "      <td>5 seconds</td>\n",
       "      <td>Occurred : 12/12/2019 18:43  (Entered as : 12/...</td>\n",
       "      <td>http://www.nuforc.org/webreports/151/S151739.html</td>\n",
       "      <td>My wife was driving southeast on a fairly popu...</td>\n",
       "      <td>2019-12-22T00:00:00</td>\n",
       "      <td>37.343152</td>\n",
       "      <td>-77.408582</td>\n",
       "    </tr>\n",
       "    <tr>\n",
       "      <th>1</th>\n",
       "      <td>I think that I may caught a UFO on the NBC Nig...</td>\n",
       "      <td>Rocky Hill</td>\n",
       "      <td>CT</td>\n",
       "      <td>2019-03-22T18:30:00</td>\n",
       "      <td>circle</td>\n",
       "      <td>3-5 seconds</td>\n",
       "      <td>Occurred : 3/22/2019 18:30  (Entered as : 03/2...</td>\n",
       "      <td>http://www.nuforc.org/webreports/145/S145297.html</td>\n",
       "      <td>I think that I may caught a UFO on the NBC Nig...</td>\n",
       "      <td>2019-03-29T00:00:00</td>\n",
       "      <td>41.664800</td>\n",
       "      <td>-72.639300</td>\n",
       "    </tr>\n",
       "    <tr>\n",
       "      <th>2</th>\n",
       "      <td>I woke up late in the afternoon 3:30-4pm. I we...</td>\n",
       "      <td>NaN</td>\n",
       "      <td>NaN</td>\n",
       "      <td>NaN</td>\n",
       "      <td>NaN</td>\n",
       "      <td>NaN</td>\n",
       "      <td>Occurred : 4/1/2019 15:45  (Entered as : April...</td>\n",
       "      <td>http://www.nuforc.org/webreports/145/S145556.html</td>\n",
       "      <td>I woke up late in the afternoon 3:30-4pm.  I w...</td>\n",
       "      <td>NaN</td>\n",
       "      <td>NaN</td>\n",
       "      <td>NaN</td>\n",
       "    </tr>\n",
       "    <tr>\n",
       "      <th>3</th>\n",
       "      <td>I was driving towards the intersection of fall...</td>\n",
       "      <td>Ottawa</td>\n",
       "      <td>ON</td>\n",
       "      <td>2019-04-17T02:00:00</td>\n",
       "      <td>teardrop</td>\n",
       "      <td>10 seconds</td>\n",
       "      <td>Occurred : 4/17/2019 02:00  (Entered as : 04-1...</td>\n",
       "      <td>http://www.nuforc.org/webreports/145/S145697.html</td>\n",
       "      <td>I was driving towards the intersection of fall...</td>\n",
       "      <td>2019-04-18T00:00:00</td>\n",
       "      <td>45.381383</td>\n",
       "      <td>-75.708501</td>\n",
       "    </tr>\n",
       "    <tr>\n",
       "      <th>4</th>\n",
       "      <td>In Peoria Arizona, I saw a cigar shaped craft ...</td>\n",
       "      <td>Peoria</td>\n",
       "      <td>NY</td>\n",
       "      <td>2009-03-15T18:00:00</td>\n",
       "      <td>cigar</td>\n",
       "      <td>2 minutes</td>\n",
       "      <td>Occurred : 3/15/2009 18:00  (Entered as : 03/1...</td>\n",
       "      <td>http://www.nuforc.org/webreports/145/S145723.html</td>\n",
       "      <td>In Peoria, Arizona, I saw a cigar shaped craft...</td>\n",
       "      <td>2019-04-18T00:00:00</td>\n",
       "      <td>NaN</td>\n",
       "      <td>NaN</td>\n",
       "    </tr>\n",
       "  </tbody>\n",
       "</table>\n",
       "</div>"
      ],
      "text/plain": [
       "                                             summary        city state  \\\n",
       "0  My wife was driving southeast on a fairly popu...     Chester    VA   \n",
       "1  I think that I may caught a UFO on the NBC Nig...  Rocky Hill    CT   \n",
       "2  I woke up late in the afternoon 3:30-4pm. I we...         NaN   NaN   \n",
       "3  I was driving towards the intersection of fall...      Ottawa    ON   \n",
       "4  In Peoria Arizona, I saw a cigar shaped craft ...      Peoria    NY   \n",
       "\n",
       "             date_time     shape     duration  \\\n",
       "0  2019-12-12T18:43:00     light    5 seconds   \n",
       "1  2019-03-22T18:30:00    circle  3-5 seconds   \n",
       "2                  NaN       NaN          NaN   \n",
       "3  2019-04-17T02:00:00  teardrop   10 seconds   \n",
       "4  2009-03-15T18:00:00     cigar    2 minutes   \n",
       "\n",
       "                                               stats  \\\n",
       "0  Occurred : 12/12/2019 18:43  (Entered as : 12/...   \n",
       "1  Occurred : 3/22/2019 18:30  (Entered as : 03/2...   \n",
       "2  Occurred : 4/1/2019 15:45  (Entered as : April...   \n",
       "3  Occurred : 4/17/2019 02:00  (Entered as : 04-1...   \n",
       "4  Occurred : 3/15/2009 18:00  (Entered as : 03/1...   \n",
       "\n",
       "                                         report_link  \\\n",
       "0  http://www.nuforc.org/webreports/151/S151739.html   \n",
       "1  http://www.nuforc.org/webreports/145/S145297.html   \n",
       "2  http://www.nuforc.org/webreports/145/S145556.html   \n",
       "3  http://www.nuforc.org/webreports/145/S145697.html   \n",
       "4  http://www.nuforc.org/webreports/145/S145723.html   \n",
       "\n",
       "                                                text               posted  \\\n",
       "0  My wife was driving southeast on a fairly popu...  2019-12-22T00:00:00   \n",
       "1  I think that I may caught a UFO on the NBC Nig...  2019-03-29T00:00:00   \n",
       "2  I woke up late in the afternoon 3:30-4pm.  I w...                  NaN   \n",
       "3  I was driving towards the intersection of fall...  2019-04-18T00:00:00   \n",
       "4  In Peoria, Arizona, I saw a cigar shaped craft...  2019-04-18T00:00:00   \n",
       "\n",
       "   city_latitude  city_longitude  \n",
       "0      37.343152      -77.408582  \n",
       "1      41.664800      -72.639300  \n",
       "2            NaN             NaN  \n",
       "3      45.381383      -75.708501  \n",
       "4            NaN             NaN  "
      ]
     },
     "execution_count": 2,
     "metadata": {},
     "output_type": "execute_result"
    }
   ],
   "source": [
    "ufo_data.head()"
   ]
  },
  {
   "cell_type": "code",
   "execution_count": 3,
   "id": "740e0951",
   "metadata": {},
   "outputs": [
    {
     "data": {
      "text/html": [
       "<div>\n",
       "<style scoped>\n",
       "    .dataframe tbody tr th:only-of-type {\n",
       "        vertical-align: middle;\n",
       "    }\n",
       "\n",
       "    .dataframe tbody tr th {\n",
       "        vertical-align: top;\n",
       "    }\n",
       "\n",
       "    .dataframe thead th {\n",
       "        text-align: right;\n",
       "    }\n",
       "</style>\n",
       "<table border=\"1\" class=\"dataframe\">\n",
       "  <thead>\n",
       "    <tr style=\"text-align: right;\">\n",
       "      <th></th>\n",
       "      <th>Unnamed: 0.1</th>\n",
       "      <th>Unnamed: 0</th>\n",
       "      <th>Company Name</th>\n",
       "      <th>Location</th>\n",
       "      <th>Datum</th>\n",
       "      <th>Detail</th>\n",
       "      <th>Status Rocket</th>\n",
       "      <th>Rocket</th>\n",
       "      <th>Status Mission</th>\n",
       "    </tr>\n",
       "  </thead>\n",
       "  <tbody>\n",
       "    <tr>\n",
       "      <th>0</th>\n",
       "      <td>0</td>\n",
       "      <td>0</td>\n",
       "      <td>SpaceX</td>\n",
       "      <td>LC-39A, Kennedy Space Center, Florida, USA</td>\n",
       "      <td>Fri Aug 07, 2020 05:12 UTC</td>\n",
       "      <td>Falcon 9 Block 5 | Starlink V1 L9 &amp; BlackSky</td>\n",
       "      <td>StatusActive</td>\n",
       "      <td>50.0</td>\n",
       "      <td>Success</td>\n",
       "    </tr>\n",
       "    <tr>\n",
       "      <th>1</th>\n",
       "      <td>1</td>\n",
       "      <td>1</td>\n",
       "      <td>CASC</td>\n",
       "      <td>Site 9401 (SLS-2), Jiuquan Satellite Launch Ce...</td>\n",
       "      <td>Thu Aug 06, 2020 04:01 UTC</td>\n",
       "      <td>Long March 2D | Gaofen-9 04 &amp; Q-SAT</td>\n",
       "      <td>StatusActive</td>\n",
       "      <td>29.75</td>\n",
       "      <td>Success</td>\n",
       "    </tr>\n",
       "    <tr>\n",
       "      <th>2</th>\n",
       "      <td>2</td>\n",
       "      <td>2</td>\n",
       "      <td>SpaceX</td>\n",
       "      <td>Pad A, Boca Chica, Texas, USA</td>\n",
       "      <td>Tue Aug 04, 2020 23:57 UTC</td>\n",
       "      <td>Starship Prototype | 150 Meter Hop</td>\n",
       "      <td>StatusActive</td>\n",
       "      <td>NaN</td>\n",
       "      <td>Success</td>\n",
       "    </tr>\n",
       "    <tr>\n",
       "      <th>3</th>\n",
       "      <td>3</td>\n",
       "      <td>3</td>\n",
       "      <td>Roscosmos</td>\n",
       "      <td>Site 200/39, Baikonur Cosmodrome, Kazakhstan</td>\n",
       "      <td>Thu Jul 30, 2020 21:25 UTC</td>\n",
       "      <td>Proton-M/Briz-M | Ekspress-80 &amp; Ekspress-103</td>\n",
       "      <td>StatusActive</td>\n",
       "      <td>65.0</td>\n",
       "      <td>Success</td>\n",
       "    </tr>\n",
       "    <tr>\n",
       "      <th>4</th>\n",
       "      <td>4</td>\n",
       "      <td>4</td>\n",
       "      <td>ULA</td>\n",
       "      <td>SLC-41, Cape Canaveral AFS, Florida, USA</td>\n",
       "      <td>Thu Jul 30, 2020 11:50 UTC</td>\n",
       "      <td>Atlas V 541 | Perseverance</td>\n",
       "      <td>StatusActive</td>\n",
       "      <td>145.0</td>\n",
       "      <td>Success</td>\n",
       "    </tr>\n",
       "  </tbody>\n",
       "</table>\n",
       "</div>"
      ],
      "text/plain": [
       "   Unnamed: 0.1  Unnamed: 0 Company Name  \\\n",
       "0             0           0       SpaceX   \n",
       "1             1           1         CASC   \n",
       "2             2           2       SpaceX   \n",
       "3             3           3    Roscosmos   \n",
       "4             4           4          ULA   \n",
       "\n",
       "                                            Location  \\\n",
       "0         LC-39A, Kennedy Space Center, Florida, USA   \n",
       "1  Site 9401 (SLS-2), Jiuquan Satellite Launch Ce...   \n",
       "2                      Pad A, Boca Chica, Texas, USA   \n",
       "3       Site 200/39, Baikonur Cosmodrome, Kazakhstan   \n",
       "4           SLC-41, Cape Canaveral AFS, Florida, USA   \n",
       "\n",
       "                        Datum                                        Detail  \\\n",
       "0  Fri Aug 07, 2020 05:12 UTC  Falcon 9 Block 5 | Starlink V1 L9 & BlackSky   \n",
       "1  Thu Aug 06, 2020 04:01 UTC           Long March 2D | Gaofen-9 04 & Q-SAT   \n",
       "2  Tue Aug 04, 2020 23:57 UTC            Starship Prototype | 150 Meter Hop   \n",
       "3  Thu Jul 30, 2020 21:25 UTC  Proton-M/Briz-M | Ekspress-80 & Ekspress-103   \n",
       "4  Thu Jul 30, 2020 11:50 UTC                    Atlas V 541 | Perseverance   \n",
       "\n",
       "  Status Rocket  Rocket Status Mission  \n",
       "0  StatusActive   50.0         Success  \n",
       "1  StatusActive  29.75         Success  \n",
       "2  StatusActive     NaN        Success  \n",
       "3  StatusActive   65.0         Success  \n",
       "4  StatusActive  145.0         Success  "
      ]
     },
     "execution_count": 3,
     "metadata": {},
     "output_type": "execute_result"
    }
   ],
   "source": [
    "space_mission.head()"
   ]
  },
  {
   "cell_type": "markdown",
   "id": "2189e1f6",
   "metadata": {},
   "source": [
    "Some cleaning needs to be done!\n",
    "\n",
    "**Time Representation:**\n",
    "Notice in Space Missions and UFO have different datum representation. For the UFO dataset they have date and time in the format of Year-Month-DateT[hour:minute:second], while the Space Missions dataset has Day of Week Month Day,Year Hour:Minute UTC.\n",
    "\n",
    "    - This is our first goal! Fixing the times!\n",
    "    - We will be using UFO's data date_time column\n",
    "    - We will be using Space Mission data's Datum column\n",
    "    \n",
    "**Location**\n",
    "Taking out those that aren't US territories to make the data easier to parse!\n"
   ]
  },
  {
   "cell_type": "code",
   "execution_count": 4,
   "id": "05647d66",
   "metadata": {
    "scrolled": true
   },
   "outputs": [
    {
     "data": {
      "text/plain": [
       "array(['VA', 'CT', nan, 'ON', 'NY', 'TX', 'AZ', 'IN', 'FL', 'NM', 'IA',\n",
       "       'SC', 'CA', 'CO', 'RI', 'TN', 'PA', 'NJ', 'WA', 'MI', 'MO', 'IL',\n",
       "       'OH', 'OR', 'MA', 'WY', 'KY', 'NC', 'AR', 'OK', 'QC', 'AB', 'AL',\n",
       "       'SD', 'MD', 'ME', 'GA', 'MN', 'NV', 'LA', 'WI', 'UT', 'MS', 'BC',\n",
       "       'MT', 'NH', 'ID', 'NB', 'WV', 'DC', 'NE', 'KS', 'MB', 'AK', 'NS',\n",
       "       'SK', 'NT', 'VT', 'ND', 'HI', 'DE', 'NL', 'PR', 'YT', 'PE', 'QB'],\n",
       "      dtype=object)"
      ]
     },
     "execution_count": 4,
     "metadata": {},
     "output_type": "execute_result"
    }
   ],
   "source": [
    "ufo_data['state'].unique()"
   ]
  },
  {
   "cell_type": "markdown",
   "id": "77808096",
   "metadata": {},
   "source": [
    "Below the abbreviations are from: https://gist.github.com/JeffPaine/3083347. I specifically only wanted to look within the United States, other UFO data outside of the US is from Canada (province and territories). For example, MB is Manitoba, NS is Nova Scotia, YT is Yukon)."
   ]
  },
  {
   "cell_type": "code",
   "execution_count": 5,
   "id": "e20a9135",
   "metadata": {},
   "outputs": [],
   "source": [
    "abbreviations_USA = {\n",
    "    # https://en.wikipedia.org/wiki/List_of_states_and_territories_of_the_United_States#States.\n",
    "    \"AK\", \"AL\", \"AR\", \"AZ\", \"CA\", \"CO\", \"CT\", \"DE\", \"FL\", \"GA\", \"HI\", \"IA\",\n",
    "    \"ID\", \"IL\", \"IN\", \"KS\", \"KY\", \"LA\", \"MA\", \"MD\", \"ME\", \"MI\", \"MN\", \"MO\",\n",
    "    \"MS\", \"MT\", \"NC\", \"ND\", \"NE\", \"NH\", \"NJ\", \"NM\", \"NV\", \"NY\", \"OH\", \"OK\",\n",
    "    \"OR\", \"PA\", \"RI\", \"SC\", \"SD\", \"TN\", \"TX\", \"UT\", \"VA\", \"VT\", \"WA\", \"WI\",\n",
    "    \"WV\", \"WY\",\n",
    "    # https://en.wikipedia.org/wiki/List_of_states_and_territories_of_the_United_States#Federal_district.\n",
    "    \"DC\",\n",
    "    # https://en.wikipedia.org/wiki/List_of_states_and_territories_of_the_United_States#Inhabited_territories.\n",
    "    \"AS\", \"GU\", \"MP\", \"PR\", \"VI\",\n",
    "}"
   ]
  },
  {
   "cell_type": "code",
   "execution_count": 6,
   "id": "0856f92d",
   "metadata": {},
   "outputs": [],
   "source": [
    "ufo_data['Within_US'] = ufo_data['state'].isin(abbreviations_USA)\n",
    "filtered_ufo_data = ufo_data[ufo_data['Within_US']].drop(columns=['Within_US'])"
   ]
  },
  {
   "cell_type": "markdown",
   "id": "4e9073e9",
   "metadata": {},
   "source": [
    "To check that our new data is correct! We now only have the UFO data's US states and territories."
   ]
  },
  {
   "cell_type": "code",
   "execution_count": 7,
   "id": "034208c3",
   "metadata": {
    "scrolled": true
   },
   "outputs": [
    {
     "data": {
      "text/plain": [
       "array(['VA', 'CT', 'NY', 'TX', 'AZ', 'IN', 'FL', 'NM', 'IA', 'SC', 'CA',\n",
       "       'CO', 'RI', 'TN', 'PA', 'NJ', 'WA', 'MI', 'MO', 'IL', 'OH', 'OR',\n",
       "       'MA', 'WY', 'KY', 'NC', 'AR', 'OK', 'AL', 'SD', 'MD', 'ME', 'GA',\n",
       "       'MN', 'NV', 'LA', 'WI', 'UT', 'MS', 'MT', 'NH', 'ID', 'WV', 'DC',\n",
       "       'NE', 'KS', 'AK', 'VT', 'ND', 'HI', 'DE', 'PR'], dtype=object)"
      ]
     },
     "execution_count": 7,
     "metadata": {},
     "output_type": "execute_result"
    }
   ],
   "source": [
    "filtered_ufo_data['state'].unique()"
   ]
  },
  {
   "cell_type": "code",
   "execution_count": 8,
   "id": "b1b5ccfe",
   "metadata": {},
   "outputs": [
    {
     "data": {
      "text/html": [
       "<div>\n",
       "<style scoped>\n",
       "    .dataframe tbody tr th:only-of-type {\n",
       "        vertical-align: middle;\n",
       "    }\n",
       "\n",
       "    .dataframe tbody tr th {\n",
       "        vertical-align: top;\n",
       "    }\n",
       "\n",
       "    .dataframe thead th {\n",
       "        text-align: right;\n",
       "    }\n",
       "</style>\n",
       "<table border=\"1\" class=\"dataframe\">\n",
       "  <thead>\n",
       "    <tr style=\"text-align: right;\">\n",
       "      <th></th>\n",
       "      <th>0</th>\n",
       "      <th>1</th>\n",
       "      <th>2</th>\n",
       "    </tr>\n",
       "  </thead>\n",
       "  <tbody>\n",
       "    <tr>\n",
       "      <th>0</th>\n",
       "      <td>2019</td>\n",
       "      <td>12</td>\n",
       "      <td>12T18:43:00</td>\n",
       "    </tr>\n",
       "    <tr>\n",
       "      <th>1</th>\n",
       "      <td>2019</td>\n",
       "      <td>03</td>\n",
       "      <td>22T18:30:00</td>\n",
       "    </tr>\n",
       "    <tr>\n",
       "      <th>4</th>\n",
       "      <td>2009</td>\n",
       "      <td>03</td>\n",
       "      <td>15T18:00:00</td>\n",
       "    </tr>\n",
       "    <tr>\n",
       "      <th>5</th>\n",
       "      <td>2019</td>\n",
       "      <td>04</td>\n",
       "      <td>02T20:25:00</td>\n",
       "    </tr>\n",
       "    <tr>\n",
       "      <th>6</th>\n",
       "      <td>2019</td>\n",
       "      <td>05</td>\n",
       "      <td>01T11:00:00</td>\n",
       "    </tr>\n",
       "    <tr>\n",
       "      <th>...</th>\n",
       "      <td>...</td>\n",
       "      <td>...</td>\n",
       "      <td>...</td>\n",
       "    </tr>\n",
       "    <tr>\n",
       "      <th>88120</th>\n",
       "      <td>2019</td>\n",
       "      <td>10</td>\n",
       "      <td>02T20:00:00</td>\n",
       "    </tr>\n",
       "    <tr>\n",
       "      <th>88121</th>\n",
       "      <td>2019</td>\n",
       "      <td>10</td>\n",
       "      <td>02T20:00:00</td>\n",
       "    </tr>\n",
       "    <tr>\n",
       "      <th>88122</th>\n",
       "      <td>2019</td>\n",
       "      <td>10</td>\n",
       "      <td>02T20:03:00</td>\n",
       "    </tr>\n",
       "    <tr>\n",
       "      <th>88123</th>\n",
       "      <td>2019</td>\n",
       "      <td>10</td>\n",
       "      <td>02T22:00:00</td>\n",
       "    </tr>\n",
       "    <tr>\n",
       "      <th>88124</th>\n",
       "      <td>2019</td>\n",
       "      <td>10</td>\n",
       "      <td>02T22:00:00</td>\n",
       "    </tr>\n",
       "  </tbody>\n",
       "</table>\n",
       "<p>79808 rows × 3 columns</p>\n",
       "</div>"
      ],
      "text/plain": [
       "          0   1            2\n",
       "0      2019  12  12T18:43:00\n",
       "1      2019  03  22T18:30:00\n",
       "4      2009  03  15T18:00:00\n",
       "5      2019  04  02T20:25:00\n",
       "6      2019  05  01T11:00:00\n",
       "...     ...  ..          ...\n",
       "88120  2019  10  02T20:00:00\n",
       "88121  2019  10  02T20:00:00\n",
       "88122  2019  10  02T20:03:00\n",
       "88123  2019  10  02T22:00:00\n",
       "88124  2019  10  02T22:00:00\n",
       "\n",
       "[79808 rows x 3 columns]"
      ]
     },
     "execution_count": 8,
     "metadata": {},
     "output_type": "execute_result"
    }
   ],
   "source": [
    "filtered_ufo_data['date_time'].str.split('-', expand=True)"
   ]
  },
  {
   "cell_type": "markdown",
   "id": "ff4dfd79",
   "metadata": {},
   "source": [
    "space_mission['Datum']"
   ]
  },
  {
   "cell_type": "code",
   "execution_count": 9,
   "id": "0383b0f5",
   "metadata": {},
   "outputs": [],
   "source": [
    "filtered_ufo_data['date_time'] = filtered_ufo_data['date_time'].str.split('-', expand=True)[0]"
   ]
  },
  {
   "cell_type": "code",
   "execution_count": 10,
   "id": "3177c126",
   "metadata": {},
   "outputs": [
    {
     "data": {
      "text/plain": [
       "0    2019\n",
       "1    2019\n",
       "4    2009\n",
       "5    2019\n",
       "6    2019\n",
       "Name: date_time, dtype: object"
      ]
     },
     "execution_count": 10,
     "metadata": {},
     "output_type": "execute_result"
    }
   ],
   "source": [
    "filtered_ufo_data['date_time'].head()"
   ]
  },
  {
   "cell_type": "markdown",
   "id": "5d71c109",
   "metadata": {},
   "source": [
    "### **Location**\n",
    "Getting the latitude and longitude. \n",
    "I attempted to want to find the missing city_latitude and city_longtitude based on the city and state, but there were more than a thousand, thus detering my determination. So I decided to unfortunately drop the location data if the city state or latitude longitude is missing."
   ]
  },
  {
   "cell_type": "markdown",
   "id": "c380e1c6",
   "metadata": {},
   "source": [
    "**UFO Location Data**"
   ]
  },
  {
   "cell_type": "code",
   "execution_count": 11,
   "id": "0da129d6",
   "metadata": {},
   "outputs": [],
   "source": [
    "filtered_ufo_data = filtered_ufo_data[~(filtered_ufo_data['city_latitude'].isna() & filtered_ufo_data['city'].isna())]"
   ]
  },
  {
   "cell_type": "code",
   "execution_count": 12,
   "id": "6e0de6ee",
   "metadata": {},
   "outputs": [
    {
     "data": {
      "text/plain": [
       "(69533, 12)"
      ]
     },
     "execution_count": 12,
     "metadata": {},
     "output_type": "execute_result"
    }
   ],
   "source": [
    "filtered_ufo_data[~(filtered_ufo_data['city_latitude'].isna())].shape"
   ]
  },
  {
   "cell_type": "code",
   "execution_count": 40,
   "id": "1ec25d10",
   "metadata": {},
   "outputs": [],
   "source": [
    "filtered_ufo_data = filtered_ufo_data[~(filtered_ufo_data['date_time'].isna() | filtered_ufo_data['city_latitude'].isna())]"
   ]
  },
  {
   "cell_type": "code",
   "execution_count": 41,
   "id": "e7cbf0d1",
   "metadata": {},
   "outputs": [
    {
     "data": {
      "text/html": [
       "<div>\n",
       "<style scoped>\n",
       "    .dataframe tbody tr th:only-of-type {\n",
       "        vertical-align: middle;\n",
       "    }\n",
       "\n",
       "    .dataframe tbody tr th {\n",
       "        vertical-align: top;\n",
       "    }\n",
       "\n",
       "    .dataframe thead th {\n",
       "        text-align: right;\n",
       "    }\n",
       "</style>\n",
       "<table border=\"1\" class=\"dataframe\">\n",
       "  <thead>\n",
       "    <tr style=\"text-align: right;\">\n",
       "      <th></th>\n",
       "      <th>summary</th>\n",
       "      <th>city</th>\n",
       "      <th>state</th>\n",
       "      <th>date_time</th>\n",
       "      <th>shape</th>\n",
       "      <th>duration</th>\n",
       "      <th>stats</th>\n",
       "      <th>report_link</th>\n",
       "      <th>text</th>\n",
       "      <th>posted</th>\n",
       "      <th>city_latitude</th>\n",
       "      <th>city_longitude</th>\n",
       "    </tr>\n",
       "  </thead>\n",
       "  <tbody>\n",
       "    <tr>\n",
       "      <th>0</th>\n",
       "      <td>My wife was driving southeast on a fairly popu...</td>\n",
       "      <td>Chester</td>\n",
       "      <td>VA</td>\n",
       "      <td>2019</td>\n",
       "      <td>light</td>\n",
       "      <td>5 seconds</td>\n",
       "      <td>Occurred : 12/12/2019 18:43  (Entered as : 12/...</td>\n",
       "      <td>http://www.nuforc.org/webreports/151/S151739.html</td>\n",
       "      <td>My wife was driving southeast on a fairly popu...</td>\n",
       "      <td>2019-12-22T00:00:00</td>\n",
       "      <td>37.343152</td>\n",
       "      <td>-77.408582</td>\n",
       "    </tr>\n",
       "    <tr>\n",
       "      <th>1</th>\n",
       "      <td>I think that I may caught a UFO on the NBC Nig...</td>\n",
       "      <td>Rocky Hill</td>\n",
       "      <td>CT</td>\n",
       "      <td>2019</td>\n",
       "      <td>circle</td>\n",
       "      <td>3-5 seconds</td>\n",
       "      <td>Occurred : 3/22/2019 18:30  (Entered as : 03/2...</td>\n",
       "      <td>http://www.nuforc.org/webreports/145/S145297.html</td>\n",
       "      <td>I think that I may caught a UFO on the NBC Nig...</td>\n",
       "      <td>2019-03-29T00:00:00</td>\n",
       "      <td>41.664800</td>\n",
       "      <td>-72.639300</td>\n",
       "    </tr>\n",
       "    <tr>\n",
       "      <th>5</th>\n",
       "      <td>The object has flashing lights that are green,...</td>\n",
       "      <td>Kirbyville</td>\n",
       "      <td>TX</td>\n",
       "      <td>2019</td>\n",
       "      <td>disk</td>\n",
       "      <td>15 minutes</td>\n",
       "      <td>Occurred : 4/2/2019 20:25  (Entered as : 04/02...</td>\n",
       "      <td>http://www.nuforc.org/webreports/145/S145476.html</td>\n",
       "      <td>The object has flashing lights that are green,...</td>\n",
       "      <td>2019-04-08T00:00:00</td>\n",
       "      <td>30.677200</td>\n",
       "      <td>-94.005200</td>\n",
       "    </tr>\n",
       "    <tr>\n",
       "      <th>6</th>\n",
       "      <td>Description is the same as Washington DC event...</td>\n",
       "      <td>Tucson</td>\n",
       "      <td>AZ</td>\n",
       "      <td>2019</td>\n",
       "      <td>unknown</td>\n",
       "      <td>5 minutes</td>\n",
       "      <td>Occurred : 5/1/2019 11:00  (Entered as : 5/1/1...</td>\n",
       "      <td>http://www.nuforc.org/webreports/145/S145947.html</td>\n",
       "      <td>Description is the same as Washington, DC, eve...</td>\n",
       "      <td>2019-05-09T00:00:00</td>\n",
       "      <td>32.259941</td>\n",
       "      <td>-110.927542</td>\n",
       "    </tr>\n",
       "    <tr>\n",
       "      <th>7</th>\n",
       "      <td>Apr. 10th we witnessed a very bright silvery r...</td>\n",
       "      <td>Gold Canyon</td>\n",
       "      <td>AZ</td>\n",
       "      <td>2019</td>\n",
       "      <td>circle</td>\n",
       "      <td>10 minutes</td>\n",
       "      <td>Occurred : 4/10/2019 17:00  (Entered as : 04/1...</td>\n",
       "      <td>http://www.nuforc.org/webreports/145/S145766.html</td>\n",
       "      <td>Apr. 10th we witnessed a very bright silvery r...</td>\n",
       "      <td>2019-04-25T00:00:00</td>\n",
       "      <td>33.371500</td>\n",
       "      <td>-111.436900</td>\n",
       "    </tr>\n",
       "  </tbody>\n",
       "</table>\n",
       "</div>"
      ],
      "text/plain": [
       "                                             summary         city state  \\\n",
       "0  My wife was driving southeast on a fairly popu...      Chester    VA   \n",
       "1  I think that I may caught a UFO on the NBC Nig...   Rocky Hill    CT   \n",
       "5  The object has flashing lights that are green,...   Kirbyville    TX   \n",
       "6  Description is the same as Washington DC event...       Tucson    AZ   \n",
       "7  Apr. 10th we witnessed a very bright silvery r...  Gold Canyon    AZ   \n",
       "\n",
       "  date_time    shape     duration  \\\n",
       "0      2019    light    5 seconds   \n",
       "1      2019   circle  3-5 seconds   \n",
       "5      2019     disk   15 minutes   \n",
       "6      2019  unknown    5 minutes   \n",
       "7      2019   circle   10 minutes   \n",
       "\n",
       "                                               stats  \\\n",
       "0  Occurred : 12/12/2019 18:43  (Entered as : 12/...   \n",
       "1  Occurred : 3/22/2019 18:30  (Entered as : 03/2...   \n",
       "5  Occurred : 4/2/2019 20:25  (Entered as : 04/02...   \n",
       "6  Occurred : 5/1/2019 11:00  (Entered as : 5/1/1...   \n",
       "7  Occurred : 4/10/2019 17:00  (Entered as : 04/1...   \n",
       "\n",
       "                                         report_link  \\\n",
       "0  http://www.nuforc.org/webreports/151/S151739.html   \n",
       "1  http://www.nuforc.org/webreports/145/S145297.html   \n",
       "5  http://www.nuforc.org/webreports/145/S145476.html   \n",
       "6  http://www.nuforc.org/webreports/145/S145947.html   \n",
       "7  http://www.nuforc.org/webreports/145/S145766.html   \n",
       "\n",
       "                                                text               posted  \\\n",
       "0  My wife was driving southeast on a fairly popu...  2019-12-22T00:00:00   \n",
       "1  I think that I may caught a UFO on the NBC Nig...  2019-03-29T00:00:00   \n",
       "5  The object has flashing lights that are green,...  2019-04-08T00:00:00   \n",
       "6  Description is the same as Washington, DC, eve...  2019-05-09T00:00:00   \n",
       "7  Apr. 10th we witnessed a very bright silvery r...  2019-04-25T00:00:00   \n",
       "\n",
       "   city_latitude  city_longitude  \n",
       "0      37.343152      -77.408582  \n",
       "1      41.664800      -72.639300  \n",
       "5      30.677200      -94.005200  \n",
       "6      32.259941     -110.927542  \n",
       "7      33.371500     -111.436900  "
      ]
     },
     "execution_count": 41,
     "metadata": {},
     "output_type": "execute_result"
    }
   ],
   "source": [
    "filtered_ufo_data.head()"
   ]
  },
  {
   "cell_type": "code",
   "execution_count": 14,
   "id": "75caeb7b",
   "metadata": {},
   "outputs": [
    {
     "data": {
      "text/html": [
       "<div>\n",
       "<style scoped>\n",
       "    .dataframe tbody tr th:only-of-type {\n",
       "        vertical-align: middle;\n",
       "    }\n",
       "\n",
       "    .dataframe tbody tr th {\n",
       "        vertical-align: top;\n",
       "    }\n",
       "\n",
       "    .dataframe thead th {\n",
       "        text-align: right;\n",
       "    }\n",
       "</style>\n",
       "<table border=\"1\" class=\"dataframe\">\n",
       "  <thead>\n",
       "    <tr style=\"text-align: right;\">\n",
       "      <th></th>\n",
       "      <th>city</th>\n",
       "      <th>state</th>\n",
       "    </tr>\n",
       "  </thead>\n",
       "  <tbody>\n",
       "    <tr>\n",
       "      <th>4</th>\n",
       "      <td>Peoria</td>\n",
       "      <td>NY</td>\n",
       "    </tr>\n",
       "    <tr>\n",
       "      <th>18</th>\n",
       "      <td>Leyner</td>\n",
       "      <td>CO</td>\n",
       "    </tr>\n",
       "    <tr>\n",
       "      <th>19</th>\n",
       "      <td>Catalina</td>\n",
       "      <td>AZ</td>\n",
       "    </tr>\n",
       "    <tr>\n",
       "      <th>23</th>\n",
       "      <td>Marin County</td>\n",
       "      <td>CA</td>\n",
       "    </tr>\n",
       "    <tr>\n",
       "      <th>26</th>\n",
       "      <td>West Bowmanstown</td>\n",
       "      <td>PA</td>\n",
       "    </tr>\n",
       "    <tr>\n",
       "      <th>...</th>\n",
       "      <td>...</td>\n",
       "      <td>...</td>\n",
       "    </tr>\n",
       "    <tr>\n",
       "      <th>88112</th>\n",
       "      <td>Hayfork</td>\n",
       "      <td>CA</td>\n",
       "    </tr>\n",
       "    <tr>\n",
       "      <th>88113</th>\n",
       "      <td>Limerick</td>\n",
       "      <td>PA</td>\n",
       "    </tr>\n",
       "    <tr>\n",
       "      <th>88114</th>\n",
       "      <td>Limerick</td>\n",
       "      <td>PA</td>\n",
       "    </tr>\n",
       "    <tr>\n",
       "      <th>88117</th>\n",
       "      <td>Hayfork</td>\n",
       "      <td>CA</td>\n",
       "    </tr>\n",
       "    <tr>\n",
       "      <th>88124</th>\n",
       "      <td>Marin County</td>\n",
       "      <td>CA</td>\n",
       "    </tr>\n",
       "  </tbody>\n",
       "</table>\n",
       "<p>10153 rows × 2 columns</p>\n",
       "</div>"
      ],
      "text/plain": [
       "                   city state\n",
       "4                Peoria    NY\n",
       "18               Leyner    CO\n",
       "19             Catalina    AZ\n",
       "23         Marin County    CA\n",
       "26     West Bowmanstown    PA\n",
       "...                 ...   ...\n",
       "88112           Hayfork    CA\n",
       "88113          Limerick    PA\n",
       "88114          Limerick    PA\n",
       "88117           Hayfork    CA\n",
       "88124      Marin County    CA\n",
       "\n",
       "[10153 rows x 2 columns]"
      ]
     },
     "execution_count": 14,
     "metadata": {},
     "output_type": "execute_result"
    }
   ],
   "source": [
    "filtered_ufo_data[filtered_ufo_data['city_latitude'].isna()][['city', 'state']]"
   ]
  },
  {
   "cell_type": "code",
   "execution_count": 15,
   "id": "e3863d81",
   "metadata": {
    "scrolled": false
   },
   "outputs": [
    {
     "name": "stdout",
     "output_type": "stream",
     "text": [
      "                   city state\n",
      "4                Peoria    NY\n",
      "18               Leyner    CO\n",
      "19             Catalina    AZ\n",
      "23         Marin County    CA\n",
      "26     West Bowmanstown    PA\n",
      "...                 ...   ...\n",
      "88112           Hayfork    CA\n",
      "88113          Limerick    PA\n",
      "88114          Limerick    PA\n",
      "88117           Hayfork    CA\n",
      "88124      Marin County    CA\n",
      "\n",
      "[10153 rows x 2 columns]\n"
     ]
    }
   ],
   "source": [
    "print(filtered_ufo_data[filtered_ufo_data['city_latitude'].isna()][['city', 'state']])"
   ]
  },
  {
   "cell_type": "markdown",
   "id": "47eca698",
   "metadata": {},
   "source": [
    "**Space Mission Location Cleaning**"
   ]
  },
  {
   "cell_type": "code",
   "execution_count": 17,
   "id": "4b2a90d6",
   "metadata": {
    "scrolled": false
   },
   "outputs": [
    {
     "data": {
      "text/html": [
       "<div>\n",
       "<style scoped>\n",
       "    .dataframe tbody tr th:only-of-type {\n",
       "        vertical-align: middle;\n",
       "    }\n",
       "\n",
       "    .dataframe tbody tr th {\n",
       "        vertical-align: top;\n",
       "    }\n",
       "\n",
       "    .dataframe thead th {\n",
       "        text-align: right;\n",
       "    }\n",
       "</style>\n",
       "<table border=\"1\" class=\"dataframe\">\n",
       "  <thead>\n",
       "    <tr style=\"text-align: right;\">\n",
       "      <th></th>\n",
       "      <th>Unnamed: 0.1</th>\n",
       "      <th>Unnamed: 0</th>\n",
       "      <th>Company Name</th>\n",
       "      <th>Location</th>\n",
       "      <th>Datum</th>\n",
       "      <th>Detail</th>\n",
       "      <th>Status Rocket</th>\n",
       "      <th>Rocket</th>\n",
       "      <th>Status Mission</th>\n",
       "    </tr>\n",
       "  </thead>\n",
       "  <tbody>\n",
       "    <tr>\n",
       "      <th>0</th>\n",
       "      <td>0</td>\n",
       "      <td>0</td>\n",
       "      <td>SpaceX</td>\n",
       "      <td>LC-39A, Kennedy Space Center, Florida, USA</td>\n",
       "      <td>Fri Aug 07, 2020 05:12 UTC</td>\n",
       "      <td>Falcon 9 Block 5 | Starlink V1 L9 &amp; BlackSky</td>\n",
       "      <td>StatusActive</td>\n",
       "      <td>50.0</td>\n",
       "      <td>Success</td>\n",
       "    </tr>\n",
       "    <tr>\n",
       "      <th>2</th>\n",
       "      <td>2</td>\n",
       "      <td>2</td>\n",
       "      <td>SpaceX</td>\n",
       "      <td>Pad A, Boca Chica, Texas, USA</td>\n",
       "      <td>Tue Aug 04, 2020 23:57 UTC</td>\n",
       "      <td>Starship Prototype | 150 Meter Hop</td>\n",
       "      <td>StatusActive</td>\n",
       "      <td>NaN</td>\n",
       "      <td>Success</td>\n",
       "    </tr>\n",
       "    <tr>\n",
       "      <th>4</th>\n",
       "      <td>4</td>\n",
       "      <td>4</td>\n",
       "      <td>ULA</td>\n",
       "      <td>SLC-41, Cape Canaveral AFS, Florida, USA</td>\n",
       "      <td>Thu Jul 30, 2020 11:50 UTC</td>\n",
       "      <td>Atlas V 541 | Perseverance</td>\n",
       "      <td>StatusActive</td>\n",
       "      <td>145.0</td>\n",
       "      <td>Success</td>\n",
       "    </tr>\n",
       "    <tr>\n",
       "      <th>8</th>\n",
       "      <td>8</td>\n",
       "      <td>8</td>\n",
       "      <td>SpaceX</td>\n",
       "      <td>SLC-40, Cape Canaveral AFS, Florida, USA</td>\n",
       "      <td>Mon Jul 20, 2020 21:30 UTC</td>\n",
       "      <td>Falcon 9 Block 5 | ANASIS-II</td>\n",
       "      <td>StatusActive</td>\n",
       "      <td>50.0</td>\n",
       "      <td>Success</td>\n",
       "    </tr>\n",
       "    <tr>\n",
       "      <th>10</th>\n",
       "      <td>10</td>\n",
       "      <td>10</td>\n",
       "      <td>Northrop</td>\n",
       "      <td>LP-0B, Wallops Flight Facility, Virginia, USA</td>\n",
       "      <td>Wed Jul 15, 2020 13:46 UTC</td>\n",
       "      <td>Minotaur IV | NROL-129</td>\n",
       "      <td>StatusActive</td>\n",
       "      <td>46.0</td>\n",
       "      <td>Success</td>\n",
       "    </tr>\n",
       "  </tbody>\n",
       "</table>\n",
       "</div>"
      ],
      "text/plain": [
       "    Unnamed: 0.1  Unnamed: 0 Company Name  \\\n",
       "0              0           0       SpaceX   \n",
       "2              2           2       SpaceX   \n",
       "4              4           4          ULA   \n",
       "8              8           8       SpaceX   \n",
       "10            10          10     Northrop   \n",
       "\n",
       "                                         Location                       Datum  \\\n",
       "0      LC-39A, Kennedy Space Center, Florida, USA  Fri Aug 07, 2020 05:12 UTC   \n",
       "2                   Pad A, Boca Chica, Texas, USA  Tue Aug 04, 2020 23:57 UTC   \n",
       "4        SLC-41, Cape Canaveral AFS, Florida, USA  Thu Jul 30, 2020 11:50 UTC   \n",
       "8        SLC-40, Cape Canaveral AFS, Florida, USA  Mon Jul 20, 2020 21:30 UTC   \n",
       "10  LP-0B, Wallops Flight Facility, Virginia, USA  Wed Jul 15, 2020 13:46 UTC   \n",
       "\n",
       "                                          Detail Status Rocket  Rocket  \\\n",
       "0   Falcon 9 Block 5 | Starlink V1 L9 & BlackSky  StatusActive   50.0    \n",
       "2             Starship Prototype | 150 Meter Hop  StatusActive     NaN   \n",
       "4                     Atlas V 541 | Perseverance  StatusActive  145.0    \n",
       "8                   Falcon 9 Block 5 | ANASIS-II  StatusActive   50.0    \n",
       "10                        Minotaur IV | NROL-129  StatusActive   46.0    \n",
       "\n",
       "   Status Mission  \n",
       "0         Success  \n",
       "2         Success  \n",
       "4         Success  \n",
       "8         Success  \n",
       "10        Success  "
      ]
     },
     "execution_count": 17,
     "metadata": {},
     "output_type": "execute_result"
    }
   ],
   "source": [
    "# Filter locations containing 'USA'\n",
    "space_mission_filter_usa = space_mission[space_mission['Location'].str.contains(\"USA\")]\n",
    "\n",
    "space_mission_filter_usa.head()"
   ]
  },
  {
   "cell_type": "code",
   "execution_count": 18,
   "id": "55d0c341",
   "metadata": {},
   "outputs": [
    {
     "name": "stderr",
     "output_type": "stream",
     "text": [
      "/var/folders/2x/p9gz6s0s69x571bjnpwzjnhh0000gn/T/ipykernel_24445/2491523497.py:1: SettingWithCopyWarning: \n",
      "A value is trying to be set on a copy of a slice from a DataFrame.\n",
      "Try using .loc[row_indexer,col_indexer] = value instead\n",
      "\n",
      "See the caveats in the documentation: https://pandas.pydata.org/pandas-docs/stable/user_guide/indexing.html#returning-a-view-versus-a-copy\n",
      "  space_mission_filter_usa['Year'] = space_mission_filter_usa['Datum'].str.split(', ', expand=True)[1].str.slice(0, 4)\n"
     ]
    }
   ],
   "source": [
    "space_mission_filter_usa['Year'] = space_mission_filter_usa['Datum'].str.split(', ', expand=True)[1].str.slice(0, 4)"
   ]
  },
  {
   "cell_type": "markdown",
   "id": "ad911045",
   "metadata": {},
   "source": [
    "Dropped extra columns: Unnamed: 0 and Unnamed: 0.1."
   ]
  },
  {
   "cell_type": "code",
   "execution_count": 19,
   "id": "da8f062d",
   "metadata": {
    "scrolled": true
   },
   "outputs": [],
   "source": [
    "space_mission_filter_usa = space_mission_filter_usa.drop(['Unnamed: 0', \n",
    "                               'Unnamed: 0.1'], axis = 1)"
   ]
  },
  {
   "cell_type": "code",
   "execution_count": 20,
   "id": "eece54aa",
   "metadata": {
    "scrolled": true
   },
   "outputs": [],
   "source": [
    "#space_mission[space_mission['Location'].split(\",\")]\n",
    "\n",
    "space_mission_filter_usa['Location'] = space_mission_filter_usa['Location'].str.split(', ', expand=True)[1]\n",
    "\n",
    "#space_mission_filter_usa['Location'].str.split(', ', expand=True)[1].unique()\n",
    "# ['Florida', 'Texas', 'Virginia', 'California', 'Marshall Islands', 'Alaska']"
   ]
  },
  {
   "cell_type": "code",
   "execution_count": 21,
   "id": "c7347eb3",
   "metadata": {},
   "outputs": [],
   "source": [
    "# using wikipedia I found\n",
    "space_station_lat_long = {\n",
    "     \"Space_Station\": [\n",
    "        \"Kennedy Space Center\", \"Boca Chica\", \"Cape Canaveral AFS\",\n",
    "        \"Wallops Flight Facility\", \"Mojave Air and Space Port\",\n",
    "        \"West Texas\", \"Vandenberg AFB\",\n",
    "        \"Ronald Reagan Ballistic Missile Defense Test Site\",\n",
    "        \"Pacific Spaceport Complex\", \"Edwards AFB\",\n",
    "        \"Naval Air Station Point Mugu\"\n",
    "    ],\n",
    "    \"Longitude\": [\n",
    "        -80.6508, -97.1563, -80.5772,\n",
    "        -75.4661, -118.1512,\n",
    "        -104.0150, -120.6107,\n",
    "        167.7316, -152.3522,\n",
    "        -117.8838, -119.1209\n",
    "    ],\n",
    "    \"Latitude\": [\n",
    "        28.5721, 25.9971, 28.5623,\n",
    "        37.9402, 35.0594,\n",
    "        31.4420, 34.7378,\n",
    "        9.3823, 57.4377,\n",
    "        34.9056, 34.1202\n",
    "    ]\n",
    "}\n",
    "\n",
    "space_station_lat_long = pd.DataFrame(space_station_lat_long)"
   ]
  },
  {
   "cell_type": "code",
   "execution_count": 22,
   "id": "faa8c25c",
   "metadata": {},
   "outputs": [
    {
     "data": {
      "text/html": [
       "<div>\n",
       "<style scoped>\n",
       "    .dataframe tbody tr th:only-of-type {\n",
       "        vertical-align: middle;\n",
       "    }\n",
       "\n",
       "    .dataframe tbody tr th {\n",
       "        vertical-align: top;\n",
       "    }\n",
       "\n",
       "    .dataframe thead th {\n",
       "        text-align: right;\n",
       "    }\n",
       "</style>\n",
       "<table border=\"1\" class=\"dataframe\">\n",
       "  <thead>\n",
       "    <tr style=\"text-align: right;\">\n",
       "      <th></th>\n",
       "      <th>Company Name</th>\n",
       "      <th>Location</th>\n",
       "      <th>Datum</th>\n",
       "      <th>Detail</th>\n",
       "      <th>Status Rocket</th>\n",
       "      <th>Rocket</th>\n",
       "      <th>Status Mission</th>\n",
       "      <th>Year</th>\n",
       "    </tr>\n",
       "  </thead>\n",
       "  <tbody>\n",
       "    <tr>\n",
       "      <th>0</th>\n",
       "      <td>SpaceX</td>\n",
       "      <td>Kennedy Space Center</td>\n",
       "      <td>Fri Aug 07, 2020 05:12 UTC</td>\n",
       "      <td>Falcon 9 Block 5 | Starlink V1 L9 &amp; BlackSky</td>\n",
       "      <td>StatusActive</td>\n",
       "      <td>50.0</td>\n",
       "      <td>Success</td>\n",
       "      <td>2020</td>\n",
       "    </tr>\n",
       "    <tr>\n",
       "      <th>2</th>\n",
       "      <td>SpaceX</td>\n",
       "      <td>Boca Chica</td>\n",
       "      <td>Tue Aug 04, 2020 23:57 UTC</td>\n",
       "      <td>Starship Prototype | 150 Meter Hop</td>\n",
       "      <td>StatusActive</td>\n",
       "      <td>NaN</td>\n",
       "      <td>Success</td>\n",
       "      <td>2020</td>\n",
       "    </tr>\n",
       "    <tr>\n",
       "      <th>4</th>\n",
       "      <td>ULA</td>\n",
       "      <td>Cape Canaveral AFS</td>\n",
       "      <td>Thu Jul 30, 2020 11:50 UTC</td>\n",
       "      <td>Atlas V 541 | Perseverance</td>\n",
       "      <td>StatusActive</td>\n",
       "      <td>145.0</td>\n",
       "      <td>Success</td>\n",
       "      <td>2020</td>\n",
       "    </tr>\n",
       "    <tr>\n",
       "      <th>8</th>\n",
       "      <td>SpaceX</td>\n",
       "      <td>Cape Canaveral AFS</td>\n",
       "      <td>Mon Jul 20, 2020 21:30 UTC</td>\n",
       "      <td>Falcon 9 Block 5 | ANASIS-II</td>\n",
       "      <td>StatusActive</td>\n",
       "      <td>50.0</td>\n",
       "      <td>Success</td>\n",
       "      <td>2020</td>\n",
       "    </tr>\n",
       "    <tr>\n",
       "      <th>10</th>\n",
       "      <td>Northrop</td>\n",
       "      <td>Wallops Flight Facility</td>\n",
       "      <td>Wed Jul 15, 2020 13:46 UTC</td>\n",
       "      <td>Minotaur IV | NROL-129</td>\n",
       "      <td>StatusActive</td>\n",
       "      <td>46.0</td>\n",
       "      <td>Success</td>\n",
       "      <td>2020</td>\n",
       "    </tr>\n",
       "  </tbody>\n",
       "</table>\n",
       "</div>"
      ],
      "text/plain": [
       "   Company Name                 Location                       Datum  \\\n",
       "0        SpaceX     Kennedy Space Center  Fri Aug 07, 2020 05:12 UTC   \n",
       "2        SpaceX               Boca Chica  Tue Aug 04, 2020 23:57 UTC   \n",
       "4           ULA       Cape Canaveral AFS  Thu Jul 30, 2020 11:50 UTC   \n",
       "8        SpaceX       Cape Canaveral AFS  Mon Jul 20, 2020 21:30 UTC   \n",
       "10     Northrop  Wallops Flight Facility  Wed Jul 15, 2020 13:46 UTC   \n",
       "\n",
       "                                          Detail Status Rocket  Rocket  \\\n",
       "0   Falcon 9 Block 5 | Starlink V1 L9 & BlackSky  StatusActive   50.0    \n",
       "2             Starship Prototype | 150 Meter Hop  StatusActive     NaN   \n",
       "4                     Atlas V 541 | Perseverance  StatusActive  145.0    \n",
       "8                   Falcon 9 Block 5 | ANASIS-II  StatusActive   50.0    \n",
       "10                        Minotaur IV | NROL-129  StatusActive   46.0    \n",
       "\n",
       "   Status Mission  Year  \n",
       "0         Success  2020  \n",
       "2         Success  2020  \n",
       "4         Success  2020  \n",
       "8         Success  2020  \n",
       "10        Success  2020  "
      ]
     },
     "execution_count": 22,
     "metadata": {},
     "output_type": "execute_result"
    }
   ],
   "source": [
    "space_mission_filter_usa.head()"
   ]
  },
  {
   "cell_type": "code",
   "execution_count": 23,
   "id": "d4fa7cce",
   "metadata": {},
   "outputs": [],
   "source": [
    "space_mission_filter_usa = space_station_lat_long.merge(space_mission_filter_usa, left_on='Space_Station', right_on='Location')"
   ]
  },
  {
   "cell_type": "code",
   "execution_count": 24,
   "id": "6d56b2c1",
   "metadata": {
    "scrolled": true
   },
   "outputs": [
    {
     "data": {
      "text/html": [
       "<div>\n",
       "<style scoped>\n",
       "    .dataframe tbody tr th:only-of-type {\n",
       "        vertical-align: middle;\n",
       "    }\n",
       "\n",
       "    .dataframe tbody tr th {\n",
       "        vertical-align: top;\n",
       "    }\n",
       "\n",
       "    .dataframe thead th {\n",
       "        text-align: right;\n",
       "    }\n",
       "</style>\n",
       "<table border=\"1\" class=\"dataframe\">\n",
       "  <thead>\n",
       "    <tr style=\"text-align: right;\">\n",
       "      <th></th>\n",
       "      <th>Space_Station</th>\n",
       "      <th>Longitude</th>\n",
       "      <th>Latitude</th>\n",
       "      <th>Company Name</th>\n",
       "      <th>Location</th>\n",
       "      <th>Datum</th>\n",
       "      <th>Detail</th>\n",
       "      <th>Status Rocket</th>\n",
       "      <th>Rocket</th>\n",
       "      <th>Status Mission</th>\n",
       "      <th>Year</th>\n",
       "    </tr>\n",
       "  </thead>\n",
       "  <tbody>\n",
       "    <tr>\n",
       "      <th>0</th>\n",
       "      <td>Kennedy Space Center</td>\n",
       "      <td>-80.6508</td>\n",
       "      <td>28.5721</td>\n",
       "      <td>SpaceX</td>\n",
       "      <td>Kennedy Space Center</td>\n",
       "      <td>Fri Aug 07, 2020 05:12 UTC</td>\n",
       "      <td>Falcon 9 Block 5 | Starlink V1 L9 &amp; BlackSky</td>\n",
       "      <td>StatusActive</td>\n",
       "      <td>50.0</td>\n",
       "      <td>Success</td>\n",
       "      <td>2020</td>\n",
       "    </tr>\n",
       "    <tr>\n",
       "      <th>1</th>\n",
       "      <td>Kennedy Space Center</td>\n",
       "      <td>-80.6508</td>\n",
       "      <td>28.5721</td>\n",
       "      <td>SpaceX</td>\n",
       "      <td>Kennedy Space Center</td>\n",
       "      <td>Sat May 30, 2020 19:22 UTC</td>\n",
       "      <td>Falcon 9 Block 5 | SpaceX Demo-2</td>\n",
       "      <td>StatusActive</td>\n",
       "      <td>50.0</td>\n",
       "      <td>Success</td>\n",
       "      <td>2020</td>\n",
       "    </tr>\n",
       "    <tr>\n",
       "      <th>2</th>\n",
       "      <td>Kennedy Space Center</td>\n",
       "      <td>-80.6508</td>\n",
       "      <td>28.5721</td>\n",
       "      <td>SpaceX</td>\n",
       "      <td>Kennedy Space Center</td>\n",
       "      <td>Wed Apr 22, 2020 19:30 UTC</td>\n",
       "      <td>Falcon 9 Block 5 | Starlink V1 L6</td>\n",
       "      <td>StatusActive</td>\n",
       "      <td>50.0</td>\n",
       "      <td>Success</td>\n",
       "      <td>2020</td>\n",
       "    </tr>\n",
       "    <tr>\n",
       "      <th>3</th>\n",
       "      <td>Kennedy Space Center</td>\n",
       "      <td>-80.6508</td>\n",
       "      <td>28.5721</td>\n",
       "      <td>SpaceX</td>\n",
       "      <td>Kennedy Space Center</td>\n",
       "      <td>Wed Mar 18, 2020 12:16 UTC</td>\n",
       "      <td>Falcon 9 Block 5 | Starlink V1 L5</td>\n",
       "      <td>StatusActive</td>\n",
       "      <td>50.0</td>\n",
       "      <td>Success</td>\n",
       "      <td>2020</td>\n",
       "    </tr>\n",
       "    <tr>\n",
       "      <th>4</th>\n",
       "      <td>Kennedy Space Center</td>\n",
       "      <td>-80.6508</td>\n",
       "      <td>28.5721</td>\n",
       "      <td>SpaceX</td>\n",
       "      <td>Kennedy Space Center</td>\n",
       "      <td>Sun Jan 19, 2020 15:30 UTC</td>\n",
       "      <td>Falcon 9 Block 5 | Crew Dragon Inflight Abort ...</td>\n",
       "      <td>StatusActive</td>\n",
       "      <td>50.0</td>\n",
       "      <td>Success</td>\n",
       "      <td>2020</td>\n",
       "    </tr>\n",
       "  </tbody>\n",
       "</table>\n",
       "</div>"
      ],
      "text/plain": [
       "          Space_Station  Longitude  Latitude Company Name  \\\n",
       "0  Kennedy Space Center   -80.6508   28.5721       SpaceX   \n",
       "1  Kennedy Space Center   -80.6508   28.5721       SpaceX   \n",
       "2  Kennedy Space Center   -80.6508   28.5721       SpaceX   \n",
       "3  Kennedy Space Center   -80.6508   28.5721       SpaceX   \n",
       "4  Kennedy Space Center   -80.6508   28.5721       SpaceX   \n",
       "\n",
       "               Location                       Datum  \\\n",
       "0  Kennedy Space Center  Fri Aug 07, 2020 05:12 UTC   \n",
       "1  Kennedy Space Center  Sat May 30, 2020 19:22 UTC   \n",
       "2  Kennedy Space Center  Wed Apr 22, 2020 19:30 UTC   \n",
       "3  Kennedy Space Center  Wed Mar 18, 2020 12:16 UTC   \n",
       "4  Kennedy Space Center  Sun Jan 19, 2020 15:30 UTC   \n",
       "\n",
       "                                              Detail Status Rocket  Rocket  \\\n",
       "0       Falcon 9 Block 5 | Starlink V1 L9 & BlackSky  StatusActive   50.0    \n",
       "1                   Falcon 9 Block 5 | SpaceX Demo-2  StatusActive   50.0    \n",
       "2                  Falcon 9 Block 5 | Starlink V1 L6  StatusActive   50.0    \n",
       "3                  Falcon 9 Block 5 | Starlink V1 L5  StatusActive   50.0    \n",
       "4  Falcon 9 Block 5 | Crew Dragon Inflight Abort ...  StatusActive   50.0    \n",
       "\n",
       "  Status Mission  Year  \n",
       "0        Success  2020  \n",
       "1        Success  2020  \n",
       "2        Success  2020  \n",
       "3        Success  2020  \n",
       "4        Success  2020  "
      ]
     },
     "execution_count": 24,
     "metadata": {},
     "output_type": "execute_result"
    }
   ],
   "source": [
    "space_mission_filter_usa.head()"
   ]
  },
  {
   "cell_type": "code",
   "execution_count": 25,
   "id": "1c841b83",
   "metadata": {},
   "outputs": [],
   "source": [
    "space_mission_filter_usa.drop('Space_Station', axis = 1, inplace = True)"
   ]
  },
  {
   "cell_type": "code",
   "execution_count": 26,
   "id": "b580f880",
   "metadata": {
    "scrolled": true
   },
   "outputs": [
    {
     "data": {
      "text/html": [
       "<div>\n",
       "<style scoped>\n",
       "    .dataframe tbody tr th:only-of-type {\n",
       "        vertical-align: middle;\n",
       "    }\n",
       "\n",
       "    .dataframe tbody tr th {\n",
       "        vertical-align: top;\n",
       "    }\n",
       "\n",
       "    .dataframe thead th {\n",
       "        text-align: right;\n",
       "    }\n",
       "</style>\n",
       "<table border=\"1\" class=\"dataframe\">\n",
       "  <thead>\n",
       "    <tr style=\"text-align: right;\">\n",
       "      <th></th>\n",
       "      <th>Longitude</th>\n",
       "      <th>Latitude</th>\n",
       "      <th>Company Name</th>\n",
       "      <th>Location</th>\n",
       "      <th>Datum</th>\n",
       "      <th>Detail</th>\n",
       "      <th>Status Rocket</th>\n",
       "      <th>Rocket</th>\n",
       "      <th>Status Mission</th>\n",
       "      <th>Year</th>\n",
       "    </tr>\n",
       "  </thead>\n",
       "  <tbody>\n",
       "    <tr>\n",
       "      <th>0</th>\n",
       "      <td>-80.6508</td>\n",
       "      <td>28.5721</td>\n",
       "      <td>SpaceX</td>\n",
       "      <td>Kennedy Space Center</td>\n",
       "      <td>Fri Aug 07, 2020 05:12 UTC</td>\n",
       "      <td>Falcon 9 Block 5 | Starlink V1 L9 &amp; BlackSky</td>\n",
       "      <td>StatusActive</td>\n",
       "      <td>50.0</td>\n",
       "      <td>Success</td>\n",
       "      <td>2020</td>\n",
       "    </tr>\n",
       "    <tr>\n",
       "      <th>1</th>\n",
       "      <td>-80.6508</td>\n",
       "      <td>28.5721</td>\n",
       "      <td>SpaceX</td>\n",
       "      <td>Kennedy Space Center</td>\n",
       "      <td>Sat May 30, 2020 19:22 UTC</td>\n",
       "      <td>Falcon 9 Block 5 | SpaceX Demo-2</td>\n",
       "      <td>StatusActive</td>\n",
       "      <td>50.0</td>\n",
       "      <td>Success</td>\n",
       "      <td>2020</td>\n",
       "    </tr>\n",
       "    <tr>\n",
       "      <th>2</th>\n",
       "      <td>-80.6508</td>\n",
       "      <td>28.5721</td>\n",
       "      <td>SpaceX</td>\n",
       "      <td>Kennedy Space Center</td>\n",
       "      <td>Wed Apr 22, 2020 19:30 UTC</td>\n",
       "      <td>Falcon 9 Block 5 | Starlink V1 L6</td>\n",
       "      <td>StatusActive</td>\n",
       "      <td>50.0</td>\n",
       "      <td>Success</td>\n",
       "      <td>2020</td>\n",
       "    </tr>\n",
       "    <tr>\n",
       "      <th>3</th>\n",
       "      <td>-80.6508</td>\n",
       "      <td>28.5721</td>\n",
       "      <td>SpaceX</td>\n",
       "      <td>Kennedy Space Center</td>\n",
       "      <td>Wed Mar 18, 2020 12:16 UTC</td>\n",
       "      <td>Falcon 9 Block 5 | Starlink V1 L5</td>\n",
       "      <td>StatusActive</td>\n",
       "      <td>50.0</td>\n",
       "      <td>Success</td>\n",
       "      <td>2020</td>\n",
       "    </tr>\n",
       "    <tr>\n",
       "      <th>4</th>\n",
       "      <td>-80.6508</td>\n",
       "      <td>28.5721</td>\n",
       "      <td>SpaceX</td>\n",
       "      <td>Kennedy Space Center</td>\n",
       "      <td>Sun Jan 19, 2020 15:30 UTC</td>\n",
       "      <td>Falcon 9 Block 5 | Crew Dragon Inflight Abort ...</td>\n",
       "      <td>StatusActive</td>\n",
       "      <td>50.0</td>\n",
       "      <td>Success</td>\n",
       "      <td>2020</td>\n",
       "    </tr>\n",
       "  </tbody>\n",
       "</table>\n",
       "</div>"
      ],
      "text/plain": [
       "   Longitude  Latitude Company Name              Location  \\\n",
       "0   -80.6508   28.5721       SpaceX  Kennedy Space Center   \n",
       "1   -80.6508   28.5721       SpaceX  Kennedy Space Center   \n",
       "2   -80.6508   28.5721       SpaceX  Kennedy Space Center   \n",
       "3   -80.6508   28.5721       SpaceX  Kennedy Space Center   \n",
       "4   -80.6508   28.5721       SpaceX  Kennedy Space Center   \n",
       "\n",
       "                        Datum  \\\n",
       "0  Fri Aug 07, 2020 05:12 UTC   \n",
       "1  Sat May 30, 2020 19:22 UTC   \n",
       "2  Wed Apr 22, 2020 19:30 UTC   \n",
       "3  Wed Mar 18, 2020 12:16 UTC   \n",
       "4  Sun Jan 19, 2020 15:30 UTC   \n",
       "\n",
       "                                              Detail Status Rocket  Rocket  \\\n",
       "0       Falcon 9 Block 5 | Starlink V1 L9 & BlackSky  StatusActive   50.0    \n",
       "1                   Falcon 9 Block 5 | SpaceX Demo-2  StatusActive   50.0    \n",
       "2                  Falcon 9 Block 5 | Starlink V1 L6  StatusActive   50.0    \n",
       "3                  Falcon 9 Block 5 | Starlink V1 L5  StatusActive   50.0    \n",
       "4  Falcon 9 Block 5 | Crew Dragon Inflight Abort ...  StatusActive   50.0    \n",
       "\n",
       "  Status Mission  Year  \n",
       "0        Success  2020  \n",
       "1        Success  2020  \n",
       "2        Success  2020  \n",
       "3        Success  2020  \n",
       "4        Success  2020  "
      ]
     },
     "execution_count": 26,
     "metadata": {},
     "output_type": "execute_result"
    }
   ],
   "source": [
    "space_mission_filter_usa.head()"
   ]
  },
  {
   "cell_type": "markdown",
   "id": "760302cb",
   "metadata": {},
   "source": [
    "## Exploratory"
   ]
  },
  {
   "cell_type": "code",
   "execution_count": 27,
   "id": "dbdcae7f",
   "metadata": {},
   "outputs": [
    {
     "data": {
      "text/plain": [
       "0       50.0 \n",
       "1       50.0 \n",
       "2       50.0 \n",
       "3       50.0 \n",
       "4       50.0 \n",
       "        ...  \n",
       "1339      NaN\n",
       "1340      NaN\n",
       "1341      NaN\n",
       "1342      NaN\n",
       "1343      NaN\n",
       "Name:  Rocket, Length: 1344, dtype: object"
      ]
     },
     "execution_count": 27,
     "metadata": {},
     "output_type": "execute_result"
    }
   ],
   "source": [
    "space_mission_filter_usa[' Rocket']"
   ]
  },
  {
   "cell_type": "code",
   "execution_count": 28,
   "id": "e398d3e7",
   "metadata": {},
   "outputs": [
    {
     "data": {
      "text/plain": [
       "0       50.0 \n",
       "1       50.0 \n",
       "2       50.0 \n",
       "3       50.0 \n",
       "4       50.0 \n",
       "        ...  \n",
       "1333    40.0 \n",
       "1334    40.0 \n",
       "1335    40.0 \n",
       "1336    40.0 \n",
       "1337    40.0 \n",
       "Name:  Rocket, Length: 487, dtype: object"
      ]
     },
     "execution_count": 28,
     "metadata": {},
     "output_type": "execute_result"
    }
   ],
   "source": [
    "space_mission_filter_usa[' Rocket'].dropna()"
   ]
  },
  {
   "cell_type": "code",
   "execution_count": 29,
   "id": "49929012",
   "metadata": {},
   "outputs": [
    {
     "data": {
      "text/plain": [
       "['Longitude',\n",
       " 'Latitude',\n",
       " 'Company Name',\n",
       " 'Location',\n",
       " 'Datum',\n",
       " 'Detail',\n",
       " 'Status Rocket',\n",
       " ' Rocket',\n",
       " 'Status Mission',\n",
       " 'Year']"
      ]
     },
     "execution_count": 29,
     "metadata": {},
     "output_type": "execute_result"
    }
   ],
   "source": [
    "space_mission_filter_usa.columns.tolist()"
   ]
  },
  {
   "cell_type": "code",
   "execution_count": 30,
   "id": "c492271e",
   "metadata": {},
   "outputs": [
    {
     "data": {
      "image/png": "[encoded data removed]",
      "text/plain": [
       "<Figure size 640x480 with 1 Axes>"
      ]
     },
     "metadata": {},
     "output_type": "display_data"
    }
   ],
   "source": [
    "plt.hist(space_mission_filter_usa[' Rocket'].dropna())\n",
    "plt.xticks(rotation=50)\n",
    "plt.show()"
   ]
  },
  {
   "cell_type": "code",
   "execution_count": 31,
   "id": "bf7596fa",
   "metadata": {},
   "outputs": [
    {
     "data": {
      "image/png": "[encoded data removed]",
      "text/plain": [
       "<Figure size 640x480 with 1 Axes>"
      ]
     },
     "metadata": {},
     "output_type": "display_data"
    }
   ],
   "source": [
    "plt.hist(space_mission_filter_usa['Status Mission'].dropna())\n",
    "plt.show()"
   ]
  },
  {
   "cell_type": "code",
   "execution_count": 32,
   "id": "2ebf9f11",
   "metadata": {},
   "outputs": [
    {
     "data": {
      "image/png": "[encoded data removed]",
      "text/plain": [
       "<Figure size 640x480 with 1 Axes>"
      ]
     },
     "metadata": {},
     "output_type": "display_data"
    }
   ],
   "source": [
    "plt.hist(space_mission_filter_usa['Year'])\n",
    "plt.xticks(rotation=90)\n",
    "plt.show()"
   ]
  },
  {
   "cell_type": "code",
   "execution_count": 33,
   "id": "0b011334",
   "metadata": {},
   "outputs": [
    {
     "data": {
      "text/plain": [
       "array(['2019', '2009', '1973', '2018', '1999', '1975', '2015', '2006',\n",
       "       '2001', '1979', nan, '1969', '1970', '1971', '1974', '1976',\n",
       "       '1977', '1978', '1980', '1981', '1982', '1983', '1984', '1985',\n",
       "       '1986', '1987', '1988', '1989', '1990', '1991', '1992', '1993',\n",
       "       '1994', '1995', '2000', '2008', '2012', '2017', '1996', '1997',\n",
       "       '1998', '2002', '2003', '2004', '2005', '2007', '2010', '2011',\n",
       "       '2013', '2014', '2016', '1972'], dtype=object)"
      ]
     },
     "execution_count": 33,
     "metadata": {},
     "output_type": "execute_result"
    }
   ],
   "source": [
    "filtered_ufo_data['date_time'].unique()"
   ]
  },
  {
   "cell_type": "code",
   "execution_count": 34,
   "id": "6e41f61b",
   "metadata": {},
   "outputs": [
    {
     "name": "stdout",
     "output_type": "stream",
     "text": [
      "Year\n",
      "1962    60\n",
      "1966    47\n",
      "1961    43\n",
      "1997    36\n",
      "1998    36\n",
      "2018    33\n",
      "1965    33\n",
      "1996    33\n",
      "1999    31\n",
      "2017    30\n",
      "1960    30\n",
      "1995    30\n",
      "2000    28\n",
      "2016    27\n",
      "1992    27\n",
      "1994    26\n",
      "1967    26\n",
      "1990    26\n",
      "2009    25\n",
      "1964    24\n",
      "1993    24\n",
      "2019    24\n",
      "2003    23\n",
      "1958    23\n",
      "2014    23\n",
      "2001    22\n",
      "1968    22\n",
      "2015    21\n",
      "2020    21\n",
      "1978    21\n",
      "2013    19\n",
      "2007    19\n",
      "1991    18\n",
      "2011    18\n",
      "2006    18\n",
      "1969    17\n",
      "2002    17\n",
      "1984    17\n",
      "1963    17\n",
      "1972    17\n",
      "1973    17\n",
      "1985    16\n",
      "1971    16\n",
      "2004    16\n",
      "1959    16\n",
      "1989    16\n",
      "1975    15\n",
      "2008    15\n",
      "2010    15\n",
      "1977    14\n",
      "1976    13\n",
      "1981    13\n",
      "2012    13\n",
      "1983    13\n",
      "2005    12\n",
      "1980    11\n",
      "1970    11\n",
      "1982    11\n",
      "1974    10\n",
      "1979     9\n",
      "1988     7\n",
      "1987     6\n",
      "1986     6\n",
      "1957     1\n",
      "Name: count, dtype: int64\n"
     ]
    }
   ],
   "source": [
    "pd.set_option('display.max_rows', None) \n",
    "print(space_mission_filter_usa['Year'].value_counts())"
   ]
  },
  {
   "cell_type": "code",
   "execution_count": 35,
   "id": "81cef4d3",
   "metadata": {},
   "outputs": [
    {
     "data": {
      "text/plain": [
       "('1957', '2020')"
      ]
     },
     "execution_count": 35,
     "metadata": {},
     "output_type": "execute_result"
    }
   ],
   "source": [
    "min(space_mission_filter_usa['Year'].dropna().unique()), max(space_mission_filter_usa['Year'].dropna().unique())"
   ]
  },
  {
   "cell_type": "code",
   "execution_count": 36,
   "id": "209e2cf3",
   "metadata": {},
   "outputs": [
    {
     "data": {
      "image/png": "[encoded data removed]",
      "text/plain": [
       "<Figure size 640x480 with 1 Axes>"
      ]
     },
     "metadata": {},
     "output_type": "display_data"
    }
   ],
   "source": [
    "plt.hist(filtered_ufo_data['date_time'].dropna())\n",
    "plt.xticks(rotation=90)\n",
    "plt.show()"
   ]
  },
  {
   "cell_type": "code",
   "execution_count": 37,
   "id": "84252d1d",
   "metadata": {
    "scrolled": true
   },
   "outputs": [
    {
     "data": {
      "text/plain": [
       "date_time\n",
       "2014    8088\n",
       "2012    7397\n",
       "2013    7117\n",
       "2015    6459\n",
       "2019    5389\n",
       "2016    5323\n",
       "2011    5169\n",
       "2017    4727\n",
       "2008    4699\n",
       "2009    4305\n",
       "2010    4229\n",
       "2007    4092\n",
       "2006    3101\n",
       "2018    3070\n",
       "2005     469\n",
       "2004     269\n",
       "1997     266\n",
       "2001     222\n",
       "2000     207\n",
       "2003     198\n",
       "1998     194\n",
       "2002     191\n",
       "1995     190\n",
       "1994     177\n",
       "1999     177\n",
       "1978     172\n",
       "1996     172\n",
       "1975     156\n",
       "1977     151\n",
       "1976     145\n",
       "1974     133\n",
       "1988     129\n",
       "1973     124\n",
       "1979     124\n",
       "1989     115\n",
       "1980     115\n",
       "1993     114\n",
       "1985     112\n",
       "1992     111\n",
       "1990     107\n",
       "1991     105\n",
       "1987     105\n",
       "1981      97\n",
       "1983      90\n",
       "1982      89\n",
       "1986      89\n",
       "1970      83\n",
       "1969      83\n",
       "1972      80\n",
       "1984      72\n",
       "1971      62\n",
       "Name: count, dtype: int64"
      ]
     },
     "execution_count": 37,
     "metadata": {},
     "output_type": "execute_result"
    }
   ],
   "source": [
    "filtered_ufo_data['date_time'].value_counts()"
   ]
  },
  {
   "cell_type": "code",
   "execution_count": 38,
   "id": "899e914a",
   "metadata": {
    "scrolled": true
   },
   "outputs": [
    {
     "data": {
      "text/plain": [
       "('1969', '2019')"
      ]
     },
     "execution_count": 38,
     "metadata": {},
     "output_type": "execute_result"
    }
   ],
   "source": [
    "min(filtered_ufo_data['date_time'].dropna().unique()), max(filtered_ufo_data['date_time'].dropna().unique())"
   ]
  }
 ],
 "metadata": {
  "kernelspec": {
   "display_name": "Python 3 (ipykernel)",
   "language": "python",
   "name": "python3"
  },
  "language_info": {
   "codemirror_mode": {
    "name": "ipython",
    "version": 3
   },
   "file_extension": ".py",
   "mimetype": "text/x-python",
   "name": "python",
   "nbconvert_exporter": "python",
   "pygments_lexer": "ipython3",
   "version": "3.11.3"
  }
 },
 "nbformat": 4,
 "nbformat_minor": 5
}
